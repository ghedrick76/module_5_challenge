{
 "cells": [
  {
   "cell_type": "code",
   "execution_count": null,
   "id": "25ef2961-75e0-404b-b046-1abeeab69124",
   "metadata": {},
   "outputs": [
    {
     "name": "stdin",
     "output_type": "stream",
     "text": [
      " g o a\n"
     ]
    },
    {
     "name": "stdout",
     "output_type": "stream",
     "text": [
      "g o a\n"
     ]
    },
    {
     "name": "stdin",
     "output_type": "stream",
     "text": [
      " gld\n"
     ]
    },
    {
     "name": "stdout",
     "output_type": "stream",
     "text": [
      "gld\n"
     ]
    }
   ],
   "source": [
    "for i in range(3):\n",
    "    val = input()\n",
    "    print(val)\n"
   ]
  },
  {
   "cell_type": "code",
   "execution_count": null,
   "id": "f41811e7-9545-474a-a954-b5ca28c6fa30",
   "metadata": {},
   "outputs": [],
   "source": []
  }
 ],
 "metadata": {
  "kernelspec": {
   "display_name": "Python 3",
   "language": "python",
   "name": "python3"
  },
  "language_info": {
   "codemirror_mode": {
    "name": "ipython",
    "version": 3
   },
   "file_extension": ".py",
   "mimetype": "text/x-python",
   "name": "python",
   "nbconvert_exporter": "python",
   "pygments_lexer": "ipython3",
   "version": "3.7.11"
  }
 },
 "nbformat": 4,
 "nbformat_minor": 5
}
